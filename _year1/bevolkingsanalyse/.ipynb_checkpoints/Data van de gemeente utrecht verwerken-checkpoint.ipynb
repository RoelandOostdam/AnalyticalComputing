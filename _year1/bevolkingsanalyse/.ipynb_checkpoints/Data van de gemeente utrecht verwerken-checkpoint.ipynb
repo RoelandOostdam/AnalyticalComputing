{
 "cells": [
  {
   "cell_type": "markdown",
   "metadata": {},
   "source": [
    "## Importeren van de data\n",
    "\n",
    "Als eerste moeten we de data importen. We openen daarvoor de csv file en zetten de data in verschillende variabelen:\n",
    "\n",
    "* columns is een dictionary die de naam van de kolom vertaalt naar de index voor de data array\n",
    "* rows is een list van elke rij die als een list is opgeslagen\n",
    "* data is een dictionary van de index van de kolom naar een lijst van data voor die kolom"
   ]
  },
  {
   "cell_type": "code",
   "execution_count": 1,
   "metadata": {
    "pycharm": {
     "is_executing": false
    }
   },
   "outputs": [
    {
     "name": "stdout",
     "output_type": "stream",
     "text": [
      "Processed 224 lines.\n"
     ]
    }
   ],
   "source": [
    "import csv\n",
    "import numpy as np\n",
    "import matplotlib.pyplot as plt\n",
    "import math\n",
    "import scipy.stats as stats\n",
    "\n",
    "filename = 'utrecht.csv'\n",
    "\n",
    "columns = {}\n",
    "rows = []\n",
    "data = {}\n",
    "\n",
    "# hulp functie om te kijken of de waarde een integer is\n",
    "def is_number(s):\n",
    "    try:\n",
    "        int(s)\n",
    "        return True\n",
    "    except ValueError:\n",
    "        return False\n",
    "\n",
    "with open(filename) as csv_file:\n",
    "    csv_reader = csv.reader(csv_file, delimiter=';')\n",
    "    line_count = 0\n",
    "    for row in csv_reader:\n",
    "        # anders reageren als het de eerste regel is, dat zijn namelijk de kolomnamen\n",
    "        if line_count == 0:\n",
    "            line_count += 1\n",
    "            i = 0\n",
    "            for c in row:\n",
    "                columns[c] = i\n",
    "                data[i] = []\n",
    "                i += 1\n",
    "        else:\n",
    "            line_count += 1\n",
    "            # alleen importeren als het maanddata is, niet de cummulatieven over een jaar\n",
    "            if 'JJ00' in row[columns['Perioden']]:\n",
    "                pass\n",
    "            else:\n",
    "                rows.append(row)\n",
    "                i = 0\n",
    "                for c in row:\n",
    "                    if is_number(c):\n",
    "                        data[i].append(int(c))\n",
    "                    else:\n",
    "                        data[i].append(c)\n",
    "                    i = i+1\n",
    "    print(f'Processed {line_count} lines.')"
   ]
  },
  {
   "cell_type": "markdown",
   "metadata": {},
   "source": [
    "Hier printen we de namen van de kolommen zodat je kan zien welke data er in het bestand zit"
   ]
  },
  {
   "cell_type": "code",
   "execution_count": 2,
   "metadata": {
    "pycharm": {
     "is_executing": false
    }
   },
   "outputs": [
    {
     "name": "stdout",
     "output_type": "stream",
     "text": [
      "{'ï»¿ID': 0, 'RegioS': 1, 'Perioden': 2, 'BevolkingAanHetBeginVanDePeriode_1': 3, 'LevendGeborenKinderen_2': 4, 'Overledenen_3': 5, 'TotaleVestiging_4': 6, 'VestigingVanuitEenAndereGemeente_5': 7, 'Immigratie_6': 8, 'TotaalVertrekInclAdmCorrecties_7': 9, 'VertrekNaarAndereGemeente_8': 10, 'EmigratieInclusiefAdmCorrecties_9': 11, 'OverigeCorrecties_10': 12, 'Bevolkingsgroei_11': 13, 'BevolkingsgroeiRelatief_12': 14, 'BevolkingsgroeiSinds1Januari_13': 15, 'BevolkingsgroeiSinds1JanuariRela_14': 16, 'BevolkingAanHetEindeVanDePeriode_15': 17}\n"
     ]
    }
   ],
   "source": [
    "print(columns)"
   ]
  },
  {
   "cell_type": "markdown",
   "metadata": {},
   "source": [
    "## Verwerken van de data\n",
    "\n",
    "Hier printen we de data voor alle maanden van het laatste jaar van het vertrek uit de gemeente."
   ]
  },
  {
   "cell_type": "code",
   "execution_count": 3,
   "metadata": {
    "pycharm": {
     "is_executing": false
    }
   },
   "outputs": [
    {
     "name": "stdout",
     "output_type": "stream",
     "text": [
      "[1796, 1475, 1518, 1679, 2083, 2300, 1901, 1815, 1646, 1670, 1924]\n"
     ]
    }
   ],
   "source": [
    "print(data[columns['VertrekNaarAndereGemeente_8']][-12:-1])"
   ]
  },
  {
   "cell_type": "code",
   "execution_count": 4,
   "metadata": {
    "pycharm": {
     "is_executing": false
    }
   },
   "outputs": [
    {
     "data": {
      "image/png": "[encoded data removed]",
      "text/plain": [
       "<Figure size 432x288 with 1 Axes>"
      ]
     },
     "metadata": {
      "needs_background": "light"
     },
     "output_type": "display_data"
    }
   ],
   "source": [
    "plt.plot( data[columns['Perioden']][-13:-1], data[columns['VertrekNaarAndereGemeente_8']][-13:-1], 'ro')\n",
    "plt.xticks(rotation=90)\n",
    "plt.show()"
   ]
  },
  {
   "cell_type": "markdown",
   "metadata": {},
   "source": [
    "### Gemiddelde berekenen"
   ]
  },
  {
   "cell_type": "code",
   "execution_count": 5,
   "metadata": {},
   "outputs": [
    {
     "name": "stdout",
     "output_type": "stream",
     "text": [
      "2526.9951456310678\n",
      "307466.31067961163\n"
     ]
    }
   ],
   "source": [
    "def mean(data):\n",
    "    total = 0\n",
    "    for x in data:\n",
    "        total+=x\n",
    "    return total/len(data)\n",
    "\n",
    "print(mean(data[columns['BevolkingsgroeiSinds1Januari_13']]))\n",
    "print(mean(data[columns['BevolkingAanHetBeginVanDePeriode_1']]))"
   ]
  },
  {
   "cell_type": "markdown",
   "metadata": {},
   "source": [
    "### Mediaan"
   ]
  },
  {
   "cell_type": "code",
   "execution_count": 6,
   "metadata": {},
   "outputs": [
    {
     "name": "stdout",
     "output_type": "stream",
     "text": [
      "1745.0\n",
      "308439.5\n"
     ]
    }
   ],
   "source": [
    "def median(data):\n",
    "    data.sort()\n",
    "    length = len(data)\n",
    "    if(length%2==0):\n",
    "        return (data[(length-1)//2] + data[length//2]) / 2\n",
    "    else:\n",
    "        return data[int(length/2)]\n",
    "\n",
    "print(median(data[columns['BevolkingsgroeiSinds1Januari_13']]))\n",
    "print(median(data[columns['BevolkingAanHetBeginVanDePeriode_1']]))"
   ]
  },
  {
   "cell_type": "markdown",
   "metadata": {},
   "source": [
    "### Modus"
   ]
  },
  {
   "cell_type": "code",
   "execution_count": 7,
   "metadata": {},
   "outputs": [
    {
     "name": "stdout",
     "output_type": "stream",
     "text": [
      "916\n",
      "260625\n"
     ]
    }
   ],
   "source": [
    "def mode(data):\n",
    "    counter = {}\n",
    "    for x in data:\n",
    "        if x not in counter.keys():\n",
    "            counter[x] = 1\n",
    "        else:\n",
    "            counter[x] += 1\n",
    "    return max(counter, key=counter.get)\n",
    "\n",
    "print(mode(data[columns['BevolkingsgroeiSinds1Januari_13']]))\n",
    "print(mode(data[columns['BevolkingAanHetBeginVanDePeriode_1']]))"
   ]
  },
  {
   "cell_type": "markdown",
   "metadata": {},
   "source": [
    "### De trendlijn"
   ]
  },
  {
   "cell_type": "code",
   "execution_count": 8,
   "metadata": {},
   "outputs": [
    {
     "data": {
      "image/png": "[encoded data removed]",
      "text/plain": [
       "<Figure size 432x288 with 1 Axes>"
      ]
     },
     "metadata": {
      "needs_background": "light"
     },
     "output_type": "display_data"
    }
   ],
   "source": [
    "def get_trendline(y):\n",
    "\t#x berekenen\n",
    "\tx = []\n",
    "\tfor i in range(1, len(y)+1):\n",
    "\t\tx.append(i)\n",
    "\n",
    "\t#som van x en y berekenen\n",
    "\tsum_x = 0\n",
    "\tsum_y = 0\n",
    "\tfor i in x:\n",
    "\t\tsum_x = sum_x + i\n",
    "\tfor i in y:\n",
    "\t\ti = float(i)\n",
    "\t\tsum_y = sum_y + i\n",
    "\n",
    "\t#a berekenen\n",
    "\tsum_a = 0\n",
    "\tfor i in range(len(x)):\n",
    "\t\tsub_a = x[i] * float(y[i])\n",
    "\t\tsum_a = sum_a + sub_a\n",
    "\ta = len(x) * sum_a\n",
    "\n",
    "\t#b berekenen\n",
    "\tb = sum_x * sum_y\n",
    "\n",
    "\t#c berekenen\n",
    "\tsum_c = 0\n",
    "\tfor i in x:\n",
    "\t\tsum_c = sum_c + (i * i)\n",
    "\tc = len(x) * sum_c\n",
    "\n",
    "\t#d berekenen\n",
    "\td = sum_x * sum_x\n",
    "\n",
    "\t#slope berekenen\n",
    "\tslope = (a - b) / (c - d)\n",
    "\n",
    "\t#e berekenen\n",
    "\te = sum_y\n",
    "\n",
    "\t#f berekenen\n",
    "\tf = slope * sum_x\n",
    "\n",
    "\t#y-intercept berekenen\n",
    "\ty_intercept = (e - f) / len(x)\n",
    "\n",
    "\t#trendlijn berekenen\n",
    "\tnew_y = []\n",
    "\tfor i in x:\n",
    "\t\tnew_y.append((slope * i) + y_intercept)\n",
    "\treturn new_y\n",
    "        \n",
    "trendline = get_trendline(data[columns['BevolkingsgroeiSinds1Januari_13']][-13:-1])\n",
    "\n",
    "plt.plot(data[columns['Perioden']][-13:-1], data[columns['BevolkingsgroeiSinds1Januari_13']][-13:-1], 'ro')\n",
    "plt.plot(data[columns['Perioden']][-13:-1], trendline)\n",
    "plt.xticks(rotation=90)\n",
    "plt.show()"
   ]
  },
  {
   "cell_type": "markdown",
   "metadata": {},
   "source": [
    "### Standaard deviatie"
   ]
  },
  {
   "cell_type": "code",
   "execution_count": 9,
   "metadata": {},
   "outputs": [
    {
     "name": "stdout",
     "output_type": "stream",
     "text": [
      "1789.2212806801094\n",
      "27769.638003496297\n"
     ]
    }
   ],
   "source": [
    "def calculate_standard_deviation(xs):\n",
    "    mean = sum(xs) / len(xs)\n",
    "    var  = sum(pow(x-mean,2) for x in xs) / len(xs)\n",
    "    std  = math.sqrt(var)\n",
    "    return std\n",
    "\n",
    "print(calculate_standard_deviation(data[columns['BevolkingsgroeiSinds1Januari_13']]))\n",
    "print(calculate_standard_deviation(data[columns['BevolkingAanHetBeginVanDePeriode_1']]))"
   ]
  },
  {
   "cell_type": "markdown",
   "metadata": {},
   "source": [
    "### Betrouwbaarheidsintervallen"
   ]
  },
  {
   "cell_type": "code",
   "execution_count": 20,
   "metadata": {},
   "outputs": [
    {
     "data": {
      "image/png": "[encoded data removed]",
      "text/plain": [
       "<Figure size 432x288 with 1 Axes>"
      ]
     },
     "metadata": {
      "needs_background": "light"
     },
     "output_type": "display_data"
    }
   ],
   "source": [
    "d = (data[columns['BevolkingsgroeiSinds1Januari_13']][-13:-1])\n",
    "\n",
    "nv = stats.norm.interval(0.95, loc=mean(d), scale=calculate_standard_deviation(d))\n",
    "\n",
    "plt.axhline(y=nv[0], color='r', linestyle='-')\n",
    "plt.axhline(y=nv[1], color='r', linestyle='-')\n",
    "\n",
    "plt.plot(data[columns['Perioden']][-13:-1], d, 'ro')\n",
    "plt.xticks(rotation=90)\n",
    "plt.show()"
   ]
  }
 ],
 "metadata": {
  "kernelspec": {
   "display_name": "Python 3",
   "language": "python",
   "name": "python3"
  },
  "language_info": {
   "codemirror_mode": {
    "name": "ipython",
    "version": 3
   },
   "file_extension": ".py",
   "mimetype": "text/x-python",
   "name": "python",
   "nbconvert_exporter": "python",
   "pygments_lexer": "ipython3",
   "version": "3.7.6"
  }
 },
 "nbformat": 4,
 "nbformat_minor": 2
}

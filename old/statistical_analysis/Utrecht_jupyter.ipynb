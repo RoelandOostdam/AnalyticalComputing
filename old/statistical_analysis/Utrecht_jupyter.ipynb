{
 "cells": [
  {
   "cell_type": "markdown",
   "metadata": {},
   "source": [
    "Dataset openen (code van canvas)"
   ]
  },
  {
   "cell_type": "code",
   "execution_count": 2,
   "metadata": {},
   "outputs": [
    {
     "name": "stdout",
     "output_type": "stream",
     "text": [
      "Processed 224 lines.\n"
     ]
    }
   ],
   "source": [
    "import csv\n",
    "from collections import Counter\n",
    "import math\n",
    "import matplotlib.pyplot as plt\n",
    "\n",
    "filename = 'utrecht.csv'\n",
    "\n",
    "columns = {}\n",
    "rows = []\n",
    "data = {}\n",
    "\n",
    "# hulp functie om te kijken of de waarde een integer is\n",
    "def is_number(s):\n",
    "\ttry:\n",
    "\t\tint(s)\n",
    "\t\treturn True\n",
    "\texcept ValueError:\n",
    "\t\treturn False\n",
    "\n",
    "with open(filename) as csv_file:\n",
    "\tcsv_reader = csv.reader(csv_file, delimiter=';')\n",
    "\tline_count = 0\n",
    "\tfor row in csv_reader:\n",
    "\t\t# anders reageren als het de eerste regel is, dat zijn namelijk de kolomnamen\n",
    "\t\tif line_count == 0:\n",
    "\t\t\tline_count += 1\n",
    "\t\t\ti = 0\n",
    "\t\t\tfor c in row:\n",
    "\t\t\t\tcolumns[c] = i\n",
    "\t\t\t\tdata[i] = []\n",
    "\t\t\t\ti += 1\n",
    "\t\telse:\n",
    "\t\t\tline_count += 1\n",
    "\t\t\t# alleen importeren als het maanddata is, niet de cummulatieven over een jaar\n",
    "\t\t\tif 'JJ00' in row[columns['Perioden']]:\n",
    "\t\t\t\tpass\n",
    "\t\t\telse:\n",
    "\t\t\t\trows.append(row)\n",
    "\t\t\t\ti = 0\n",
    "\t\t\t\tfor c in row:\n",
    "\t\t\t\t\tif is_number(c):\n",
    "\t\t\t\t\t\tdata[i].append(int(c))\n",
    "\t\t\t\t\telse:\n",
    "\t\t\t\t\t\tdata[i].append(c)\n",
    "\t\t\t\t\ti = i+1\n",
    "\tprint(f'Processed {line_count} lines.')"
   ]
  },
  {
   "cell_type": "markdown",
   "metadata": {},
   "source": [
    "Functies voor het berekenen van gemiddelde, modus, mediaan en standaard deviatie"
   ]
  },
  {
   "cell_type": "code",
   "execution_count": null,
   "metadata": {},
   "outputs": [],
   "source": [
    "# Gemiddelde berekenen\n",
    "def calculate_average(info):\n",
    "\tcount: int = len(info)\n",
    "\taverage = sum(info)/count\n",
    "\treturn average\n",
    "\n",
    "# Modus berekenen\n",
    "def calculate_mode(info):\n",
    "\tn = len(info)\n",
    "\n",
    "\tdata = Counter(info)\n",
    "\tget_mode = dict(data)\n",
    "\tmode = [k for k, v in get_mode.items() if v == max(list(data.values()))]\n",
    "\n",
    "\tif len(mode) == n:\n",
    "\t\tget_mode = \"Geen modus gevonden\"\n",
    "\telse:\n",
    "\t\tget_mode = mode\n",
    "\n",
    "\treturn get_mode\n",
    "\n",
    "# Mediaan berekenen\n",
    "def calculate_mean(collumn):\n",
    "\tvalueCount = {} # Aantal keer voorkomen lijst\n",
    "\n",
    "\tfor value in collumn: # Voor elke waarde in de kolom\n",
    "\t\tif value in valueCount.keys(): # Als de waarde al bestaat, plus 1 anders naar 1\n",
    "\t\t\tvalueCount[value] += 1\n",
    "\t\telse:\n",
    "\t\t\tvalueCount[value] = 1\n",
    "\n",
    "\tvalueCountSorted = sorted(valueCount.items(), key=lambda kv: kv[1], reverse=True) # Sorteren op aantal keer in de lijst\n",
    "\n",
    "\treturn valueCountSorted[0]\n",
    "\n",
    "def calculate_standard_deviation(xs):\n",
    "\tmean = sum(xs) / len(xs)\n",
    "\tvar  = sum(pow(x-mean,2) for x in xs) / len(xs)\n",
    "\tstd  = math.sqrt(var)\n",
    "\treturn std"
   ]
  },
  {
   "cell_type": "markdown",
   "metadata": {},
   "source": [
    "Berekenen van de trendlijn"
   ]
  },
  {
   "cell_type": "code",
   "execution_count": null,
   "metadata": {},
   "outputs": [],
   "source": [
    "def get_trendline(y):\n",
    "\t#x berekenen\n",
    "\tx = []\n",
    "\tfor i in range(1, len(y)+1):\n",
    "\t\tx.append(i)\n",
    "\n",
    "\t#som van x en y berekenen\n",
    "\tsum_x = 0\n",
    "\tsum_y = 0\n",
    "\tfor i in x:\n",
    "\t\tsum_x = sum_x + i\n",
    "\tfor i in y:\n",
    "\t\ti = float(i)\n",
    "\t\tsum_y = sum_y + i\n",
    "\n",
    "\t#a berekenen\n",
    "\tsum_a = 0\n",
    "\tfor i in range(len(x)):\n",
    "\t\tsub_a = x[i] * float(y[i])\n",
    "\t\tsum_a = sum_a + sub_a\n",
    "\ta = len(x) * sum_a\n",
    "\n",
    "\t#b berekenen\n",
    "\tb = sum_x * sum_y\n",
    "\n",
    "\t#c berekenen\n",
    "\tsum_c = 0\n",
    "\tfor i in x:\n",
    "\t\tsum_c = sum_c + (i * i)\n",
    "\tc = len(x) * sum_c\n",
    "\n",
    "\t#d berekenen\n",
    "\td = sum_x * sum_x\n",
    "\n",
    "\t#slope berekenen\n",
    "\tslope = (a - b) / (c - d)\n",
    "\n",
    "\t#e berekenen\n",
    "\te = sum_y\n",
    "\n",
    "\t#f berekenen\n",
    "\tf = slope * sum_x\n",
    "\n",
    "\t#y-intercept berekenen\n",
    "\ty_intercept = (e - f) / len(x)\n",
    "\n",
    "\t#trendlijn berekenen\n",
    "\tnew_y = []\n",
    "\tfor i in x:\n",
    "\t\tnew_y.append((slope * i) + y_intercept)\n",
    "\treturn new_y"
   ]
  },
  {
   "cell_type": "markdown",
   "metadata": {},
   "source": [
    "Functie voor het printen van alle data in één keer"
   ]
  },
  {
   "cell_type": "code",
   "execution_count": null,
   "metadata": {},
   "outputs": [],
   "source": [
    "def all_data(data_name):\n",
    "\t# Gemiddelde, modus, mediaan en standaarddeviatie\n",
    "\tprint(data_name)\n",
    "\tinfo = data[columns[data_name]][-12:-1]\n",
    "\tprint(info)\n",
    "\tprint(\"Gemiddelde:\", calculate_average(info))\n",
    "\tprint(\"Modus:\", calculate_mode(info))\n",
    "\tprint(\"Mediaan:\", calculate_mean(info))\n",
    "\tprint(\"Standaard deviatie:\", calculate_standard_deviation(info))\n",
    "\tprint(\"-\" * 30)"
   ]
  },
  {
   "cell_type": "markdown",
   "metadata": {},
   "source": [
    "Functie voor het genereren van de grafiek,\n",
    "en daarnaast een functie om een getal af te ronden op de honderden wat gebruikt wordt voor de y-as limitatie"
   ]
  },
  {
   "cell_type": "code",
   "execution_count": null,
   "metadata": {},
   "outputs": [],
   "source": [
    "def plot_plot(title, data):\n",
    "\tplt.plot(periods, data, 'ro')\n",
    "\tplt.plot(get_trendline(data))\n",
    "\tplt.plot(calculate_standard_deviation(data))\n",
    "\tplt.title(title)\n",
    "\tplt.ylim(round_100(min(data),False),round_100(max(data),True))\n",
    "\tplt.xticks(rotation=90)\n",
    "\tplt.show()"
   ]
  },
  {
   "cell_type": "markdown",
   "metadata": {},
   "source": [
    "De periodes in een lijst zetten"
   ]
  },
  {
   "cell_type": "markdown",
   "metadata": {},
   "source": [
    "periods = data[columns['Perioden']][-13:-1] # Perioden"
   ]
  },
  {
   "cell_type": "markdown",
   "metadata": {},
   "source": [
    "Overledenen"
   ]
  },
  {
   "cell_type": "code",
   "execution_count": 4,
   "metadata": {},
   "outputs": [
    {
     "name": "stdout",
     "output_type": "stream",
     "text": [
      "Overledenen_3\n",
      "[166, 160, 157, 142, 136, 160, 117, 160, 124, 156, 158]\n",
      "Gemiddelde: 148.72727272727272\n",
      "Modus: [160]\n",
      "Mediaan: (160, 3)\n",
      "Standaard deviatie: 15.702292299886485\n",
      "------------------------------\n"
     ]
    },
    {
     "data": {
      "image/png": "[encoded data removed]",
      "text/plain": [
       "<Figure size 432x288 with 1 Axes>"
      ]
     },
     "metadata": {
      "needs_background": "light"
     },
     "output_type": "display_data"
    }
   ],
   "source": [
    "d = data[columns['Overledenen_3']][-13:-1]\n",
    "all_data('Overledenen_3')\n",
    "plot_plot(\"Overledenen_3\", d)"
   ]
  },
  {
   "cell_type": "markdown",
   "metadata": {},
   "source": [
    "Levend geboren kinderen"
   ]
  },
  {
   "cell_type": "code",
   "execution_count": 3,
   "metadata": {},
   "outputs": [
    {
     "name": "stdout",
     "output_type": "stream",
     "text": [
      "LevendGeborenKinderen_2\n",
      "[381, 389, 407, 392, 423, 423, 457, 450, 389, 369, 407]\n",
      "Gemiddelde: 407.90909090909093\n",
      "Modus: [389, 407, 423]\n",
      "Mediaan: (389, 2)\n",
      "Standaard deviatie: 26.70530946682716\n",
      "------------------------------\n"
     ]
    },
    {
     "data": {
      "image/png": "[encoded data removed]",
      "text/plain": [
       "<Figure size 432x288 with 1 Axes>"
      ]
     },
     "metadata": {
      "needs_background": "light"
     },
     "output_type": "display_data"
    }
   ],
   "source": [
    "d = data[columns['LevendGeborenKinderen_2']][-13:-1]\n",
    "all_data('LevendGeborenKinderen_2')\n",
    "plot_plot(\"LevendGeborenKinderen_2\", d)"
   ]
  },
  {
   "cell_type": "code",
   "execution_count": null,
   "metadata": {},
   "outputs": [],
   "source": []
  }
 ],
 "metadata": {
  "kernelspec": {
   "display_name": "Python 3",
   "language": "python",
   "name": "python3"
  },
  "language_info": {
   "codemirror_mode": {
    "name": "ipython",
    "version": 3
   },
   "file_extension": ".py",
   "mimetype": "text/x-python",
   "name": "python",
   "nbconvert_exporter": "python",
   "pygments_lexer": "ipython3",
   "version": "3.6.7"
  }
 },
 "nbformat": 4,
 "nbformat_minor": 2
}

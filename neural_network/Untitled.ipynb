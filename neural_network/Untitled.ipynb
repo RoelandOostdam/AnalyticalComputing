{
 "cells": [
  {
   "cell_type": "markdown",
   "metadata": {},
   "source": [
    "Bestand uitlezen:"
   ]
  },
  {
   "cell_type": "code",
   "execution_count": null,
   "metadata": {},
   "outputs": [],
   "source": [
    "import sys\n",
    "import json\n",
    "\n",
    "# arg_file = str(sys.argv[1])\n",
    "# arg_file = 'example.json'\n",
    "arg_file = 'example-2layer.json'\n",
    "precision = 1\n",
    "\n",
    "with open(arg_file) as json_file:\n",
    "\tdata = json.load(json_file)\n",
    "\tfirst_layer = 1\n",
    "\tfor layer in data:\n",
    "\t\tsize_in = data[layer]['size_in']\n",
    "\t\tsize_out = data[layer]['size_out']"
   ]
  },
  {
   "cell_type": "markdown",
   "metadata": {},
   "source": [
    "Input en output layers definiëren"
   ]
  },
  {
   "cell_type": "code",
   "execution_count": 7,
   "metadata": {},
   "outputs": [],
   "source": [
    "\t\tif(first_layer==1):\n",
    "\t\t\tI = [1]*(int(size_in)+1) # Define input vector\n",
    "\t\t\tO = {} # Output vector\n",
    "\t\telse:\n",
    "\t\t\tI = O"
   ]
  },
  {
   "cell_type": "markdown",
   "metadata": {},
   "source": [
    "Voor elke node uitrekenen wat de gecombineerde gewichten (l) uitgerekend zijn."
   ]
  },
  {
   "cell_type": "code",
   "execution_count": null,
   "metadata": {},
   "outputs": [],
   "source": [
    "\t\tfor node in data[layer]['weights']:\n",
    "\t\t\tl = 0.0 # All transition weights combined counter\n",
    "\t\t\tfor target_node in data[layer]['weights'][node]:\n",
    "\t\t\t\tl+=float(data[layer]['weights'][node][target_node])\n",
    "\t\t\t\tO[int(target_node)] = round(I[int(node)]*l,precision)"
   ]
  },
  {
   "cell_type": "code",
   "execution_count": 8,
   "metadata": {},
   "outputs": [
    {
     "name": "stdout",
     "output_type": "stream",
     "text": [
      "layer2\n",
      "------------------------------\n",
      "L1 --> -1.6\n",
      "L2 --> -1.8\n",
      "L4 --> -1.8\n",
      "L3 --> -1.1\n",
      "------------------------------\n"
     ]
    }
   ],
   "source": [
    "\t\tprint(layer)\n",
    "\t\tprint(\"-\"*30)\n",
    "\t\tfor x in O:\n",
    "\t\t\tprint(\"L\"+str(x),\"-->\",O[x])\n",
    "\t\tprint(\"-\"*30)\n",
    "\t\tfirst_layer = 0"
   ]
  },
  {
   "cell_type": "code",
   "execution_count": null,
   "metadata": {},
   "outputs": [],
   "source": []
  }
 ],
 "metadata": {
  "kernelspec": {
   "display_name": "Python 3",
   "language": "python",
   "name": "python3"
  },
  "language_info": {
   "codemirror_mode": {
    "name": "ipython",
    "version": 3
   },
   "file_extension": ".py",
   "mimetype": "text/x-python",
   "name": "python",
   "nbconvert_exporter": "python",
   "pygments_lexer": "ipython3",
   "version": "3.6.7"
  }
 },
 "nbformat": 4,
 "nbformat_minor": 2
}

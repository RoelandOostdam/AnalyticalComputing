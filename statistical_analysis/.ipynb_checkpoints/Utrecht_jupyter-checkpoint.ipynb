{
 "cells": [
  {
   "cell_type": "markdown",
   "metadata": {},
   "source": [
    "Dataset openen (code van canvas)"
   ]
  },
  {
   "cell_type": "code",
   "execution_count": 1,
   "metadata": {},
   "outputs": [
    {
     "name": "stdout",
     "output_type": "stream",
     "text": [
      "Processed 224 lines.\n",
      "Overledenen_3\n",
      "[166, 160, 157, 142, 136, 160, 117, 160, 124, 156, 158]\n",
      "Gemiddelde: 148.72727272727272\n",
      "Modus: [160]\n",
      "Mediaan: (160, 3)\n",
      "Standaard deviatie: 15.702292299886485\n",
      "------------------------------\n"
     ]
    },
    {
     "data": {
      "text/plain": [
       "<Figure size 640x480 with 1 Axes>"
      ]
     },
     "metadata": {},
     "output_type": "display_data"
    },
    {
     "name": "stdout",
     "output_type": "stream",
     "text": [
      "LevendGeborenKinderen_2\n",
      "[381, 389, 407, 392, 423, 423, 457, 450, 389, 369, 407]\n",
      "Gemiddelde: 407.90909090909093\n",
      "Modus: [389, 407, 423]\n",
      "Mediaan: (389, 2)\n",
      "Standaard deviatie: 26.70530946682716\n",
      "------------------------------\n"
     ]
    },
    {
     "data": {
      "text/plain": [
       "<Figure size 640x480 with 1 Axes>"
      ]
     },
     "metadata": {},
     "output_type": "display_data"
    }
   ],
   "source": [
    "import csv\n",
    "from collections import Counter\n",
    "import math\n",
    "import matplotlib.pyplot as plt\n",
    "\n",
    "filename = 'utrecht.csv'\n",
    "\n",
    "columns = {}\n",
    "rows = []\n",
    "data = {}\n",
    "\n",
    "# hulp functie om te kijken of de waarde een integer is\n",
    "def is_number(s):\n",
    "\ttry:\n",
    "\t\tint(s)\n",
    "\t\treturn True\n",
    "\texcept ValueError:\n",
    "\t\treturn False\n",
    "\n",
    "with open(filename) as csv_file:\n",
    "\tcsv_reader = csv.reader(csv_file, delimiter=';')\n",
    "\tline_count = 0\n",
    "\tfor row in csv_reader:\n",
    "\t\t# anders reageren als het de eerste regel is, dat zijn namelijk de kolomnamen\n",
    "\t\tif line_count == 0:\n",
    "\t\t\tline_count += 1\n",
    "\t\t\ti = 0\n",
    "\t\t\tfor c in row:\n",
    "\t\t\t\tcolumns[c] = i\n",
    "\t\t\t\tdata[i] = []\n",
    "\t\t\t\ti += 1\n",
    "\t\telse:\n",
    "\t\t\tline_count += 1\n",
    "\t\t\t# alleen importeren als het maanddata is, niet de cummulatieven over een jaar\n",
    "\t\t\tif 'JJ00' in row[columns['Perioden']]:\n",
    "\t\t\t\tpass\n",
    "\t\t\telse:\n",
    "\t\t\t\trows.append(row)\n",
    "\t\t\t\ti = 0\n",
    "\t\t\t\tfor c in row:\n",
    "\t\t\t\t\tif is_number(c):\n",
    "\t\t\t\t\t\tdata[i].append(int(c))\n",
    "\t\t\t\t\telse:\n",
    "\t\t\t\t\t\tdata[i].append(c)\n",
    "\t\t\t\t\ti = i+1\n",
    "\tprint(f'Processed {line_count} lines.')"
   ]
  },
  {
   "cell_type": "code",
   "execution_count": null,
   "metadata": {},
   "outputs": [],
   "source": []
  }
 ],
 "metadata": {
  "kernelspec": {
   "display_name": "Python 3",
   "language": "python",
   "name": "python3"
  },
  "language_info": {
   "codemirror_mode": {
    "name": "ipython",
    "version": 3
   },
   "file_extension": ".py",
   "mimetype": "text/x-python",
   "name": "python",
   "nbconvert_exporter": "python",
   "pygments_lexer": "ipython3",
   "version": "3.6.7"
  }
 },
 "nbformat": 4,
 "nbformat_minor": 2
}
